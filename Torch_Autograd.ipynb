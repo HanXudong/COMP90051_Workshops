{
  "nbformat": 4,
  "nbformat_minor": 0,
  "metadata": {
    "colab": {
      "name": "Torch_Autograd",
      "version": "0.3.2",
      "provenance": [],
      "include_colab_link": true
    },
    "kernelspec": {
      "name": "python3",
      "display_name": "Python 3"
    }
  },
  "cells": [
    {
      "cell_type": "markdown",
      "metadata": {
        "id": "view-in-github",
        "colab_type": "text"
      },
      "source": [
        "<a href=\"https://colab.research.google.com/github/HanXudong/COMP90051_Workshops/blob/master/Torch_Autograd.ipynb\" target=\"_parent\"><img src=\"https://colab.research.google.com/assets/colab-badge.svg\" alt=\"Open In Colab\"/></a>"
      ]
    },
    {
      "cell_type": "code",
      "metadata": {
        "id": "OA1HdlaS7Kon",
        "colab_type": "code",
        "colab": {}
      },
      "source": [
        "import torch"
      ],
      "execution_count": 0,
      "outputs": []
    },
    {
      "cell_type": "code",
      "metadata": {
        "id": "BcaePvX57Mhd",
        "colab_type": "code",
        "colab": {}
      },
      "source": [
        "a = torch.tensor(2.0)\n",
        "b = torch.tensor(3.0)\n",
        "w0 = torch.tensor(1.0, requires_grad = True)\n",
        "w1 = torch.tensor(1.0, requires_grad = True)\n",
        "v = torch.tensor(1.0, requires_grad = True)\n"
      ],
      "execution_count": 0,
      "outputs": []
    },
    {
      "cell_type": "code",
      "metadata": {
        "id": "y0uiE1Vg7hpj",
        "colab_type": "code",
        "colab": {}
      },
      "source": [
        "u = a*w0 + b*w1 \n",
        "f = v*u"
      ],
      "execution_count": 0,
      "outputs": []
    },
    {
      "cell_type": "code",
      "metadata": {
        "id": "w9Gl4fGp7kGW",
        "colab_type": "code",
        "colab": {
          "base_uri": "https://localhost:8080/",
          "height": 34
        },
        "outputId": "541fc079-c2e1-4f15-b98b-eca1ba547e2a"
      },
      "source": [
        "print(u, f)"
      ],
      "execution_count": 4,
      "outputs": [
        {
          "output_type": "stream",
          "text": [
            "tensor(5., grad_fn=<AddBackward0>) tensor(5., grad_fn=<MulBackward0>)\n"
          ],
          "name": "stdout"
        }
      ]
    },
    {
      "cell_type": "code",
      "metadata": {
        "id": "lUakB0oz7lQH",
        "colab_type": "code",
        "colab": {}
      },
      "source": [
        "criterion = torch.nn.MSELoss()\n",
        "loss = criterion(f, torch.tensor(10.0))"
      ],
      "execution_count": 0,
      "outputs": []
    },
    {
      "cell_type": "code",
      "metadata": {
        "id": "2m1uU07n7qh9",
        "colab_type": "code",
        "colab": {
          "base_uri": "https://localhost:8080/",
          "height": 34
        },
        "outputId": "91910569-69ac-4ab4-c54d-7e216d16efbb"
      },
      "source": [
        "print(loss)"
      ],
      "execution_count": 6,
      "outputs": [
        {
          "output_type": "stream",
          "text": [
            "tensor(25., grad_fn=<MseLossBackward>)\n"
          ],
          "name": "stdout"
        }
      ]
    },
    {
      "cell_type": "code",
      "metadata": {
        "id": "_PBn7gs57rrn",
        "colab_type": "code",
        "colab": {}
      },
      "source": [
        "loss.backward()"
      ],
      "execution_count": 0,
      "outputs": []
    },
    {
      "cell_type": "code",
      "metadata": {
        "id": "qYSaO2xn7s0Q",
        "colab_type": "code",
        "colab": {
          "base_uri": "https://localhost:8080/",
          "height": 34
        },
        "outputId": "cd4ab832-e0a5-4906-87ba-3d1eff728ebc"
      },
      "source": [
        "print(w0.grad, w1.grad, v.grad)"
      ],
      "execution_count": 8,
      "outputs": [
        {
          "output_type": "stream",
          "text": [
            "tensor(-20.) tensor(-30.) tensor(-50.)\n"
          ],
          "name": "stdout"
        }
      ]
    },
    {
      "cell_type": "code",
      "metadata": {
        "id": "u9KrLSkb7t_n",
        "colab_type": "code",
        "colab": {}
      },
      "source": [
        "u = a*w0 + b*w1 \n",
        "f = v*u"
      ],
      "execution_count": 0,
      "outputs": []
    },
    {
      "cell_type": "code",
      "metadata": {
        "id": "3KQElfzQ7xKM",
        "colab_type": "code",
        "colab": {}
      },
      "source": [
        "loss = criterion(f, torch.tensor(10.0))"
      ],
      "execution_count": 0,
      "outputs": []
    },
    {
      "cell_type": "code",
      "metadata": {
        "id": "Ow6Ztv697ysZ",
        "colab_type": "code",
        "colab": {}
      },
      "source": [
        "loss.backward()"
      ],
      "execution_count": 0,
      "outputs": []
    },
    {
      "cell_type": "code",
      "metadata": {
        "id": "JEYfQ5_c7zvp",
        "colab_type": "code",
        "colab": {
          "base_uri": "https://localhost:8080/",
          "height": 34
        },
        "outputId": "c9b2be1c-4708-4aff-d335-a59617a356ac"
      },
      "source": [
        "print(w0.grad, w1.grad, v.grad)"
      ],
      "execution_count": 12,
      "outputs": [
        {
          "output_type": "stream",
          "text": [
            "tensor(-40.) tensor(-60.) tensor(-100.)\n"
          ],
          "name": "stdout"
        }
      ]
    }
  ]
}