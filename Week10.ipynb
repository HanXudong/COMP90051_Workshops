{
 "cells": [
  {
   "cell_type": "code",
   "execution_count": 1,
   "metadata": {},
   "outputs": [],
   "source": [
    "import numpy as np"
   ]
  },
  {
   "cell_type": "code",
   "execution_count": 2,
   "metadata": {},
   "outputs": [
    {
     "data": {
      "text/plain": [
       "array([[0.5985 , 0.1827 ],\n",
       "       [0.5922 , 0.00063]])"
      ]
     },
     "execution_count": 2,
     "metadata": {},
     "output_type": "execute_result"
    }
   ],
   "source": [
    "np.array([[0.95, 0.29], [0.94, 0.001]])*0.7*0.9"
   ]
  },
  {
   "cell_type": "code",
   "execution_count": 3,
   "metadata": {},
   "outputs": [
    {
     "data": {
      "text/plain": [
       "array([[2.500e-05, 3.550e-04],\n",
       "       [3.000e-05, 4.995e-04]])"
      ]
     },
     "execution_count": 3,
     "metadata": {},
     "output_type": "execute_result"
    }
   ],
   "source": [
    "np.array([[1-0.95, 1-0.29], [1-0.94, 1-0.001]])*0.05*0.01"
   ]
  },
  {
   "cell_type": "code",
   "execution_count": 4,
   "metadata": {},
   "outputs": [
    {
     "data": {
      "text/plain": [
       "array([[0.598525 , 0.183055 ],\n",
       "       [0.59223  , 0.0011295]])"
      ]
     },
     "execution_count": 4,
     "metadata": {},
     "output_type": "execute_result"
    }
   ],
   "source": [
    "np.array([[0.95, 0.29], [0.94, 0.001]])*0.7*0.9+np.array([[1-0.95, 1-0.29], [1-0.94, 1-0.001]])*0.05*0.01"
   ]
  },
  {
   "cell_type": "markdown",
   "metadata": {},
   "source": [
    "* P(J=T,M=T|B=T,E=T) = 0.598525\n",
    "* P(J=T,M=T|B=F,E=T) = 0.183055\n",
    "* P(J=T,M=T|B=T,E=F) = 0.59223\n",
    "* P(J=T,M=T|B=F,E=F) = 0.0011295"
   ]
  },
  {
   "cell_type": "markdown",
   "metadata": {},
   "source": [
    "Given P(E=T)=0.002 and P(E=F)=0.998, this product is actuay the marginalization and its result can be regarded as:\n",
    "* P(E=T)P(J=T,M=T|B=T,E=T) + P(E=F)P(J=T,M=T|B=T,E=F) = P(J=T,M=T|B=T)\n",
    "* P(E=T)P(J=T,M=T|B=F,E=T) + P(E=F)P(J=T,M=T|B=F,E=F) = P(J=T,M=T|B=F)"
   ]
  },
  {
   "cell_type": "code",
   "execution_count": 5,
   "metadata": {},
   "outputs": [
    {
     "data": {
      "text/plain": [
       "array([0.59224259, 0.00149335])"
      ]
     },
     "execution_count": 5,
     "metadata": {},
     "output_type": "execute_result"
    }
   ],
   "source": [
    "np.dot(np.array([0.002, 0.998]), np.array([[0.598525 , 0.183055 ],[0.59223  , 0.0011295]]))"
   ]
  },
  {
   "cell_type": "markdown",
   "metadata": {},
   "source": [
    "* P(J=T,M=T|B=T) = 0.59224259\n",
    "* P(J=T,M=T|B=F) = 0.00149335"
   ]
  },
  {
   "cell_type": "code",
   "execution_count": 6,
   "metadata": {},
   "outputs": [
    {
     "data": {
      "text/plain": [
       "0.0020840992399999998"
      ]
     },
     "execution_count": 6,
     "metadata": {},
     "output_type": "execute_result"
    }
   ],
   "source": [
    "np.dot(np.array([0.001, 0.999]), np.array([0.59224259, 0.00149335]))"
   ]
  },
  {
   "cell_type": "markdown",
   "metadata": {},
   "source": [
    "Marginalization over B: P(J=T,M=T) = P(B=T)P(J=T,M=T|B=T)+P(B=F)P(J=T,M=T|B=F) = 0.0020840992399999998"
   ]
  },
  {
   "cell_type": "code",
   "execution_count": 7,
   "metadata": {},
   "outputs": [
    {
     "data": {
      "text/plain": [
       "0.2841719715803937"
      ]
     },
     "execution_count": 7,
     "metadata": {},
     "output_type": "execute_result"
    }
   ],
   "source": [
    "1/0.0020840992399999998 * 0.001 * 0.59224259"
   ]
  },
  {
   "cell_type": "markdown",
   "metadata": {},
   "source": [
    "P(B=T|J=T,M=T) = 1/P(J=T,M=T) * P(J=T,M=T|B=T)P(B=T) = 0.2841719715803937"
   ]
  }
 ],
 "metadata": {
  "kernelspec": {
   "display_name": "Python 3",
   "language": "python",
   "name": "python3"
  },
  "language_info": {
   "codemirror_mode": {
    "name": "ipython",
    "version": 3
   },
   "file_extension": ".py",
   "mimetype": "text/x-python",
   "name": "python",
   "nbconvert_exporter": "python",
   "pygments_lexer": "ipython3",
   "version": "3.7.4"
  }
 },
 "nbformat": 4,
 "nbformat_minor": 2
}
